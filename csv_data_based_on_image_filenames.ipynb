{
  "nbformat": 4,
  "nbformat_minor": 0,
  "metadata": {
    "colab": {
      "provenance": [],
      "authorship_tag": "ABX9TyMtgy7xIoowHFM6bcwky1MI",
      "include_colab_link": true
    },
    "kernelspec": {
      "name": "python3",
      "display_name": "Python 3"
    },
    "language_info": {
      "name": "python"
    }
  },
  "cells": [
    {
      "cell_type": "markdown",
      "metadata": {
        "id": "view-in-github",
        "colab_type": "text"
      },
      "source": [
        "<a href=\"https://colab.research.google.com/github/belbelbel/python-colab-101/blob/main/csv_data_based_on_image_filenames.ipynb\" target=\"_parent\"><img src=\"https://colab.research.google.com/assets/colab-badge.svg\" alt=\"Open In Colab\"/></a>"
      ]
    },
    {
      "cell_type": "markdown",
      "source": [
        "## Filtering CSV data based on image filenames in a folder\n",
        "\n",
        "In this case :\n",
        "\n",
        "You have a folder `source` containing 100 images. You want to separate csv data `csv_description` consisting of `'image_name', 'date', and 'user_name'`(total 2000 entries) according to the 100 images present in the `source` folder and save them into a new csv file `/content/drive/MyDrive/new_filtered.csv`."
      ],
      "metadata": {
        "id": "-_8g5GvPn-sx"
      }
    },
    {
      "cell_type": "code",
      "execution_count": null,
      "metadata": {
        "id": "fXnPREH9kOiq"
      },
      "outputs": [],
      "source": [
        "import csv\n",
        "import os"
      ]
    },
    {
      "cell_type": "code",
      "source": [
        "source = '/content/drive/MyDrive/source'\n",
        "csv_description = '/content/drive/MyDrive/csv_file.csv'"
      ],
      "metadata": {
        "id": "2XrFV3BPkYxF"
      },
      "execution_count": null,
      "outputs": []
    },
    {
      "cell_type": "code",
      "source": [
        "list_file = []\n",
        "\n",
        "for a in list_file:\n",
        "  list_file.append(a)"
      ],
      "metadata": {
        "id": "e1rhaApBkeFb"
      },
      "execution_count": null,
      "outputs": []
    },
    {
      "cell_type": "code",
      "source": [
        "with open('/content/drive/MyDrive/new_filtered.csv', 'a') as csvfile:\n",
        "    row = ['image_name', 'date', 'user_name']\n",
        "    writer = csv.writer(csvfile)\n",
        "    writer.writerow(row)"
      ],
      "metadata": {
        "id": "ltdrL98CmQBz"
      },
      "execution_count": null,
      "outputs": []
    },
    {
      "cell_type": "code",
      "source": [
        "with open(csv_description, 'r') as csv_file:\n",
        "  reader = csv.reader(csv_file)\n",
        "  header = next(reader)\n",
        "\n",
        "  for row in reader:\n",
        "    image_name = row[0]\n",
        "    date = row[1]\n",
        "    user_name = row[2]\n",
        "\n",
        "    for files in list_file:\n",
        "      if files == image_name:\n",
        "        new_row = [image_name, date, user_name]\n",
        "\n",
        "        with open('/content/drive/MyDrive/new_filtered.csv', 'a', newline='') as csvfile:\n",
        "          writer = csv.writer(csvfile)\n",
        "          writer.writerow(new_row)"
      ],
      "metadata": {
        "id": "VAiR88s9kyqi"
      },
      "execution_count": null,
      "outputs": []
    }
  ]
}