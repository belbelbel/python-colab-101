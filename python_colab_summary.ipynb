{
  "nbformat": 4,
  "nbformat_minor": 0,
  "metadata": {
    "colab": {
      "provenance": [],
      "authorship_tag": "ABX9TyPrt0BmuG8Fnli2jvRNb/RK",
      "include_colab_link": true
    },
    "kernelspec": {
      "name": "python3",
      "display_name": "Python 3"
    },
    "language_info": {
      "name": "python"
    }
  },
  "cells": [
    {
      "cell_type": "markdown",
      "metadata": {
        "id": "view-in-github",
        "colab_type": "text"
      },
      "source": [
        "<a href=\"https://colab.research.google.com/github/belbelbel/python-colab-101/blob/main/python_colab_summary.ipynb\" target=\"_parent\"><img src=\"https://colab.research.google.com/assets/colab-badge.svg\" alt=\"Open In Colab\"/></a>"
      ]
    },
    {
      "cell_type": "markdown",
      "source": [
        "### Connect Colab with Drive"
      ],
      "metadata": {
        "id": "DOy0qUnmNSlB"
      }
    },
    {
      "cell_type": "markdown",
      "source": [
        "First thing first: you need to connect Colab with the Drive you want to use"
      ],
      "metadata": {
        "id": "F1k32bMRN-tW"
      }
    },
    {
      "cell_type": "code",
      "execution_count": null,
      "metadata": {
        "id": "ckmggKFqBpj_"
      },
      "outputs": [],
      "source": [
        "from google.colab import drive\n",
        "drive.mount('/content/drive')"
      ]
    },
    {
      "cell_type": "markdown",
      "source": [
        "### Playing with Python libraries for images"
      ],
      "metadata": {
        "id": "CjqkD1q7Ow9f"
      }
    },
    {
      "cell_type": "markdown",
      "source": [
        "**1. Count the number of images in folder**\n",
        "\n",
        " You can use two types of libraries such as `os` or `glob` to help with the counting process. You can also store the filenames in an array if you need them."
      ],
      "metadata": {
        "id": "IRV3bTVTPASV"
      }
    },
    {
      "cell_type": "markdown",
      "source": [
        "\n",
        "\n",
        "> `files` will store the file name : `'my_image'`\n",
        ".  `files_with_path` will store files along with their paths : `'/content/drive/MyDrive/my_folder/my_image.jpg'`\n",
        "\n",
        "\n",
        "\n"
      ],
      "metadata": {
        "id": "1QNL_OBsTK8g"
      }
    },
    {
      "cell_type": "code",
      "source": [
        "import os\n",
        "\n",
        "path = '/content/drive/MyDrive/my_folder'\n",
        "\n",
        "my_file = []\n",
        "\n",
        "for files in os.listdir(path):\n",
        "  files_with_path = os.path.join(path, files)\n",
        "  my_file.append(files)\n",
        "\n",
        "len(my_file)"
      ],
      "metadata": {
        "id": "zw2yaDDJO_pG"
      },
      "execution_count": null,
      "outputs": []
    },
    {
      "cell_type": "code",
      "source": [
        "import glob\n",
        "\n",
        "path = '/content/drive/MyDrive/my_folder'\n",
        "\n",
        "my_file = []\n",
        "\n",
        "for files in glob.glob(path + '/' + '*.jpg'):\n",
        "  files_with_path = files.split(\"/\")[-1].split('.')[0]\n",
        "  my_file.append(files)\n",
        "\n",
        "len(my_file)"
      ],
      "metadata": {
        "id": "BCDYGVM0Rfs4"
      },
      "execution_count": null,
      "outputs": []
    }
  ]
}